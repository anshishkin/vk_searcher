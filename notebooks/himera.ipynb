{
 "cells": [
  {
   "cell_type": "code",
   "execution_count": null,
   "id": "05da16f9-269c-4ba9-8069-0d7fcbcbf22c",
   "metadata": {},
   "outputs": [],
   "source": [
    "#ФИО|Дата рождения|Номер телефона|Адрес\n",
    "columns= ['full_name', 'country', 'region', 'gender','vkontakte_id','date_of_birth']\n",
    "for document_full_path in files:\n",
    "    with open(f'lol.csv', 'w') as f_out:\n",
    "        # write the header\n",
    "        #f_out.write(('\\t'.join(columns)+'\\n'))\n",
    "        i = 0\n",
    "        with open('/home/andrei/Downloads/Himera/Himera (2023).txt', \"r\",errors='ignore') as file:\n",
    "    \n",
    "            for index, line in enumerate(file):\n",
    "                i += 1\n",
    "                if i > 66:\n",
    "                full_values=str()\n",
    "                values = line.split(\"|\")[:-1]\n",
    "                #print(values)\n",
    "                if len(values)>=len(columns):\n",
    "                    for val in values[:len(columns)]:\n",
    "                        if val:\n",
    "                            full_values+=f\"{val}\\t\"\n",
    "                        else:\n",
    "                            full_values+=\"\\t\"\n",
    "                    #print(full_values[:-1])\n",
    "                else:\n",
    "                    for val in values:\n",
    "                        if val:\n",
    "                            full_values+=f\"{val}\\t\"\n",
    "                        \n",
    "                        else:\n",
    "                            full_values+=\";\"\n",
    "                    full_values+='\\t'*(len(columns)-len(values))\n",
    "                if len(full_values.split(\"\\t\")) > 7:\n",
    "                    print(full_values)  \n",
    "                f_out.write(f\"{full_values[:-1]}\\n\")"
   ]
  },
  {
   "cell_type": "code",
   "execution_count": 11,
   "id": "5f32a354-d6ca-4c7d-b3fd-53cd4f93510b",
   "metadata": {
    "scrolled": true
   },
   "outputs": [
    {
     "name": "stdout",
     "output_type": "stream",
     "text": [
      "БЕЛОВА СВЕТЛАНА ВЯЧЕСЛАВОВНА|09.05.1963||ТАЙНИНСКАЯ 16 2 197\n",
      "\n",
      "БЕЛОВА СВЕТЛАНА ВЯЧЕСЛАВОВНА|11.05.1962||\n",
      "\n",
      "БЕЛОВА СВЕТЛАНА ВЯЧЕСЛАВОВНА|27.01.1987||ОРЕНБУРГ\n",
      "\n",
      "БЕЛОВА СВЕТЛАНА ВЯЧЕСЛАВОВНА||79065452895|390000 Г.РЯЗАНЬ УЛ. НАХИМОВА 3 КВ.51\n",
      "\n",
      "БЕЛОВА СВЕТЛАНА ВЯЧЕСЛАВОВНА||79069283980|652642 КЕМЕРОВСКАЯ Г.БЕЛОВО 9 УЛ. КОМСОМОЛЬСКАЯ 43 КВ.41\n",
      "\n",
      "БЕЛОВА СВЕТЛАНА ВЯЧЕСЛАВОВНА||79056128279|АДИМИРСКАЯ Г.ЛАКИНСК УЛ. СОВЕТСКАЯ 4 КВ.69\n",
      "\n",
      "БЕЛОВА СВЕТЛАНА ВЯЧЕСЛАВОВНА|23.03.1964|79046184691|ГОРОД МОСКВА, МАЛАЯ КАЛИТНИКОВСКАЯ УЛИЦА, ДОМ 47А КОРП 1, КВАРТИРА 78\n",
      "\n",
      "БЕЛОВА СВЕТЛАНА ВЯЧЕСЛАВОВНА||79056484782|601021 ВЛАДИМИРСКАЯ ОБЛ. ВЛАДИМИРСКАЯ КИРЖАЧСКИЙ ПОС. ПЕРШИНО УЛ. КОМСОМОЛЬСКАЯ 2 КВ. 9\n",
      "\n",
      "БЕЛОВА СВЕТЛАНА ВЯЧЕСЛАВОВНА|23.03.1964|79046184691|Г. МОСКВА И МОСКОВСКАЯ ОБЛАСТЬ\n",
      "\n",
      "БЕЛОВА СВЕТЛАНА ВЯЧЕСЛАВОВНА||79052955121|Г. ПСКОВ УЛ. КОММУНАЛЬНАЯ Д.16 КВ.60\n",
      "\n",
      "БЕЛОВА СВЕТЛАНА ВЯЧЕСЛАВОВНА||79052955091|Г. ПСКОВ УЛ. КОММУНАЛЬНАЯ Д.16А КВ.60\n",
      "\n",
      "БЕЛОВА СВЕТЛАНА ВЯЧЕСЛАВОВНА|06.06.1977|79039898091|ЧУВАШСКАЯ ЧУВАШИЯ РЕСП НОВОЧЕБОКСАРСК Г ЕЛЬНИКОВСКИЙ ПРОЕЗД Д. 11/ КВ. 74\n",
      "\n",
      "БЕЛОВА СВЕТЛАНА ВЯЧЕСЛАВОВНА||79030043436|МОСКВА ТРОПАРЕВОНИКУЛИНО НИКУЛИНСКАЯ 15 ДОМ.1 КВ.111\n",
      "\n",
      "БЕЛОВА СВЕТЛАНА ВЯЧЕСЛАВОВНА|20.09.1970|79080917924|ЧЕЛЯБИНСКАЯ ОБЛ.\n",
      "\n",
      "БЕЛОВА СВЕТЛАНА ВЯЧЕСЛАВОВНА||79056481915|600901 ВЛАДИМИРСКАЯ ОБЛ. ВЛАДИМИРСКАЯ СОБИНСКИЙ Г. ЛАКИНСК УЛ. СОВЕТСКАЯ 4 КВ. 69\n",
      "\n",
      "БЕЛОВА СВЕТЛАНА ВЯЧЕСЛАВОВНА||79038220903|150010 Г.ЯРОСЛАВЛЬ УЛ. ПОС. ОКТЯБРЬСКИЙ Д. 14К231\n",
      "\n",
      "БЕЛОВА СВЕТЛАНА ВЯЧЕСЛАВОВНА|06.08.1974|74954698543|ЛИПЕЦКАЯ УЛИЦА Д.7 КОРП.1 КВ.647\n",
      "\n",
      "БЕЛОВА СВЕТЛАНА ВЯЧЕСЛАВОВНА|23.03.1964|74959095770|КАЛИТНИКОВСКАЯ МАЛАЯ УЛИЦА Д.47А КОРП.20 КВ.78\n",
      "\n",
      "БЕЛОВА СВЕТЛАНА ВЯЧЕСЛАВОВНА|25.04.2019|79171099179|\n",
      "\n",
      "БЕЛОВА СВЕТЛАНА ВЯЧЕСЛАВОВНА|14.05.1981|79154005116|\n",
      "\n",
      "БЕЛОВА СВЕТЛАНА ВЯЧЕСЛАВОВНА|29.09.1984|79158197852|ИВАНОВСКАЯ ОБЛ.\n",
      "\n",
      "БЕЛОВА СВЕТЛАНА ВЯЧЕСЛАВОВНА|04.04.1987|79159609143|ЯРОСЛАВСКАЯ ОБЛ.\n",
      "\n",
      "БЕЛОВА СВЕТЛАНА ВЯЧЕСЛАВОВНА|06.06.1980|79199108450|НОВОЧЕБОКСАРСК\n",
      "\n",
      "БЕЛОВА СВЕТЛАНА ВЯЧЕСЛАВОВНА|21.01.1959|79206109822|КАЛУГА\n",
      "\n",
      "БЕЛОВА СВЕТЛАНА ВЯЧЕСЛАВОВНА||79209196952|Г.ПСКОВ КОММУНАЛЬНАЯ 16А 60\n",
      "\n",
      "БЕЛОВА СВЕТЛАНА ВЯЧЕСЛАВОВНА||79209917466|ТРОИЦКИЙ 160 42 163001 АРХАНГЕЛЬСК\n",
      "\n",
      "БЕЛОВА СВЕТЛАНА ВЯЧЕСЛАВОВНА||79109689524|ЯРОСЛАВЛЬ, ДЗЕРЖИНСКОГО ПР-Т, 3, 155\n",
      "\n",
      "БЕЛОВА СВЕТЛАНА ВЯЧЕСЛАВОВНА||79110161759|САНКТ-ПЕТЕРБУРГ ВАСИЛЕОСТРОВСКИЙ ГАВАНСКАЯ 49 ДОМ.2 КВ.21\n",
      "\n",
      "БЕЛОВА СВЕТЛАНА ВЯЧЕСЛАВОВНА|09.05.1972|79092427446|СВЕРДЛОВСКАЯ\n",
      "\n",
      "БЕЛОВА СВЕТЛАНА ВЯЧЕСЛАВОВНА|27.11.1975|79092909091|НИЖЕГОРОДСКАЯ ОБЛ.\n",
      "\n",
      "БЕЛОВА СВЕТЛАНА ВЯЧЕСЛАВОВНА||79095753093|Г. ПСКОВ УЛ. КОММУНАЛЬНАЯ Д.16А КВ.60\n",
      "\n",
      "БЕЛОВА СВЕТЛАНА ВЯЧЕСЛАВОВНА||79095753094|Г. ПСКОВ УЛ. КОММУНАЛЬНАЯ Д.16А КВ.60\n",
      "\n",
      "БЕЛОВА СВЕТЛАНА ВЯЧЕСЛАВОВНА||79116982572|ПСКОВ КОММУНАЛЬНАЯ УЛ Д.16А КВ.60\n",
      "\n",
      "БЕЛОВА СВЕТЛАНА ВЯЧЕСЛАВОВНА|01.04.1973|79269949914|Г. МОСКВА И МОСКОВСКАЯ ОБЛАСТЬ\n",
      "\n",
      "БЕЛОВА СВЕТЛАНА ВЯЧЕСЛАВОВНА|02.09.1970|79638211316|ХАБАРОВСКИЙ КРАЙ\n",
      "\n",
      "БЕЛОВА СВЕТЛАНА ВЯЧЕСЛАВОВНА|09.05.1972|79536069687|КРАСНОГОРСКИЙ КАМЕНСКУРАЛЬСКИЙ НАБЕРЕЖНАЯ 1 3\n",
      "\n",
      "БЕЛОВА СВЕТЛАНА ВЯЧЕСЛАВОВНА|11.11.1980|79520034147|БАРНАУЛ\n",
      "\n",
      "БЕЛОВА СВЕТЛАНА ВЯЧЕСЛАВОВНА|11.11.1980|79520092934|656049, Г. БАРНАУЛ, УЛ. КРАСНОАРМЕЙСКИЙ, Д.46, КВ.4\n",
      "\n",
      "БЕЛОВА СВЕТЛАНА ВЯЧЕСЛАВОВНА|12.06.1991|79371192262|САМАРСКАЯ ОБЛ.\n",
      "\n",
      "БЕЛОВА СВЕТЛАНА ВЯЧЕСЛАВОВНА|14.01.1982|79520208387|ЧУВАШСКАЯ РЕСПУБЛИКА ЧУВАШИЯ\n",
      "\n",
      "БЕЛОВА СВЕТЛАНА ВЯЧЕСЛАВОВНА|18.04.1965|79611191109|ТВЕРЬ\n",
      "\n",
      "БЕЛОВА СВЕТЛАНА ВЯЧЕСЛАВОВНА|22.05.1978|79529491254|646641, РН КОЧЕНЕВСКИЙ, НП КОЧЕНЕВО, УЛ. КРАСНОАРМЕЙСКАЯ, Д.12\n",
      "\n",
      "БЕЛОВА СВЕТЛАНА ВЯЧЕСЛАВОВНА|24.09.1977|79623537868|\n",
      "\n",
      "БЕЛОВА СВЕТЛАНА ВЯЧЕСЛАВОВНА|24.09.1977|79623537868|Г. САНКТПЕТЕРБУРГ И ЛЕНИНГРАДСКАЯ ОБЛАСТЬ\n",
      "\n",
      "БЕЛОВА СВЕТЛАНА ВЯЧЕСЛАВОВНА|31.08.1987|79500392197|Г. САНКТПЕТЕРБУРГ * ЛЕНИНГРАДСКАЯ ОБЛАСТЬ\n",
      "\n",
      "БЕЛОВА СВЕТЛАНА ВЯЧЕСЛАВОВНА||79262101464|МОСКВА ТРОПАРЕВОНИКУЛИНО НИКУЛИНСКАЯ 15 ДОМ.1 КВ.111\n",
      "\n",
      "БЕЛОВА СВЕТЛАНА ВЯЧЕСЛАВОВНА|20.09.1993|79991100379|\n",
      "\n",
      "БЕЛОВА СВЕТЛАНА ВЯЧЕСЛАВОВНА|19.05.1978|79777611371|\n",
      "\n",
      "БЕЛОВА СВЕТЛАНА ВЯЧЕСЛАВОВНА|01.01.1900|79857610902|Г МОСКВА ПРОФСОЮЗНАЯ Д 142\n",
      "\n",
      "БЕЛОВА СВЕТЛАНА ВЯЧЕСЛАВОВНА|23.03.1964||КАЛИТНИКОВСКАЯ М. 47А 20 78\n",
      "\n",
      "БЕЛОВА СВЕТЛАНА ВЯЧЕСЛАВОВНА|25.08.2003|79775311221|Г. МОСКВА И МОСКОВСКАЯ ОБЛАСТЬ\n",
      "\n",
      "БЕЛОВА СВЕТЛАНА ВЯЧЕСЛАВОВНА|21.04.2002|79652901096|Г. МОСКВА И МОСКОВСКАЯ ОБЛАСТЬ\n",
      "\n",
      "БЕЛОВА СВЕТЛАНА ВЯЧЕСЛАВОВНА|20.02.1957|79852404392|ГОРОД МОСКВА, ШОССЕ БОРОВСКОЕ, ДОМ 39, КВАРТИРА 19\n",
      "\n",
      "БЕЛОВА СВЕТЛАНА ВЯЧЕСЛАВОВНА|01.01.1900|79653490009|117218, МОСКВА Г, НОВОЧЕРЁМУШКИНСКАЯ УЛ, ДОМ 24, КОРПУС 2, КВАРТИРА 09\n",
      "\n"
     ]
    }
   ],
   "source": [
    "#ФИО|Дата рождения|Номер телефона|Адрес\n",
    "columns= ['full_name', 'country', 'region', 'gender','vkontakte_id','date_of_birth']\n",
    "with open(f'lol.csv', 'w') as f_out:\n",
    "    # write the header\n",
    "    #f_out.write(('\\t'.join(columns)+'\\n'))\n",
    "    i = 0\n",
    "    with open('/home/andrei/Downloads/Himera/Himera (2023).txt', \"r\",errors='ignore') as file:\n",
    "\n",
    "        for index, line in enumerate(file):\n",
    "            i += 1\n",
    "            if i > 66:\n",
    "                if line.upper().startswith('БЕЛОВА СВЕТЛАНА ВЯЧЕСЛАВОВНА'): #ЗЮЗИН АЛЕКСАНДР АНДРЕЕВИЧ\n",
    "                    f_out.write(f\"{line}\\n\")\n",
    "                    print(line)"
   ]
  },
  {
   "cell_type": "code",
   "execution_count": 36,
   "id": "abb7b0ab-edae-4df9-90fa-d78141742c46",
   "metadata": {},
   "outputs": [],
   "source": [
    "import yaml\n",
    "yml_raw = open('test.yml').read()\n",
    "yml_dict = yaml.safe_load(yml_raw)"
   ]
  },
  {
   "cell_type": "code",
   "execution_count": 37,
   "id": "bde57514-f587-4dd0-8eae-e5284d4fcb6b",
   "metadata": {},
   "outputs": [
    {
     "data": {
      "text/plain": [
       "'# сохраните это в файл .gitlab-ci.yml в корень репозитория из прошлого урока\\n# не забудьте так же настроить секреты как описано выше\\n\\nimage: python:latest\\n\\nvariables:\\n  PIP_CACHE_DIR: \"${CI_PROJECT_DIR}/.cache/pip\"\\n\\ncache:\\n  paths:\\n    - .cache/pip\\n\\nworkflow:\\n  rules :\\n    - if: $CI_PIPELINE_SOURCE == \"web\"\\n      when: always\\n    - if: $CI_PIPELINE_SOURCE == \"api\"\\n\\nbefore_script:\\n  - python --version; pip --version\\n  - pip install virtualenv\\n  - virtualenv venv\\n  - source venv/bin/activate\\n\\nstages:\\n  - check\\n  - build\\n  - deploy\\n\\nlint:\\n  stage: check\\n  script:\\n    - pip install ruff\\n    - ruff check\\n\\ntest:\\n  stage: check\\n  script:\\n    - pip install pytest httpx\\n    - pip install -r requirements.txt\\n    - pytest\\n\\nbuild:\\n  stage: build\\n  image:\\n    name: gcr.io/kaniko-project/executor:v1.14.0-debug\\n    entrypoint: [\"\"]\\n  before_script:\\n    - \"\"\\n  script:\\n    - echo \"{\\\\\"auths\\\\\":{\\\\\"https://index.docker.io/v1/\\\\\":{\\\\\"auth\\\\\":\\\\\"$(printf \"%s:%s\" \"${DOCKERHUB_USERNAME}\" \"${DOCKERHUB_TOKEN}\" | base64 | tr -d \\'\\\\n\\')\\\\\"}}}\" > /kaniko/.docker/config.json\\n    - /kaniko/executor --context \"${CI_PROJECT_DIR}\" --dockerfile \"${CI_PROJECT_DIR}/Dockerfile\" --destination \"${DOCKERHUB_URL}\"\\n\\ndeploy:\\n  stage: deploy\\n  script:\\n    - curl ${RENDER_DEPLOY_HOOK}\\n  environment: production'"
      ]
     },
     "execution_count": 37,
     "metadata": {},
     "output_type": "execute_result"
    }
   ],
   "source": [
    "yml_raw"
   ]
  },
  {
   "cell_type": "code",
   "execution_count": 38,
   "id": "423e3c78-6393-42a3-aa40-001a1124407c",
   "metadata": {},
   "outputs": [],
   "source": [
    "workflow_string = open('workflow.txt').read()"
   ]
  },
  {
   "cell_type": "code",
   "execution_count": 39,
   "id": "b86b3726-f31b-44d1-858a-ddda1c545631",
   "metadata": {},
   "outputs": [
    {
     "data": {
      "text/plain": [
       "False"
      ]
     },
     "execution_count": 39,
     "metadata": {},
     "output_type": "execute_result"
    }
   ],
   "source": [
    "workflow_string in yml_raw"
   ]
  },
  {
   "cell_type": "code",
   "execution_count": 24,
   "id": "9be9ed1b-6f5e-4b31-a409-a19fba4d0ca0",
   "metadata": {},
   "outputs": [
    {
     "data": {
      "text/plain": [
       "'workflow:\\n'"
      ]
     },
     "execution_count": 24,
     "metadata": {},
     "output_type": "execute_result"
    }
   ],
   "source": [
    "workflow_string"
   ]
  },
  {
   "cell_type": "code",
   "execution_count": 27,
   "id": "dd87d091-ea0c-46c4-b423-46ec68cccb02",
   "metadata": {},
   "outputs": [
    {
     "data": {
      "text/plain": [
       "True"
      ]
     },
     "execution_count": 27,
     "metadata": {},
     "output_type": "execute_result"
    }
   ],
   "source": [
    "\"pytest\" in yml_raw"
   ]
  },
  {
   "cell_type": "code",
   "execution_count": 7,
   "id": "219b5e28-e23a-42a7-b25f-4bda99e3077d",
   "metadata": {
    "scrolled": true
   },
   "outputs": [
    {
     "data": {
      "text/plain": [
       "{'image': 'python:latest',\n",
       " 'variables': {'PIP_CACHE_DIR': '${CI_PROJECT_DIR}/.cache/pip'},\n",
       " 'cache': {'paths': ['.cache/pip']},\n",
       " 'workflow': {'rules': [{'if': '$CI_PIPELINE_SOURCE == \"web\"',\n",
       "    'when': 'always'},\n",
       "   {'if': '$CI_PIPELINE_SOURCE == \"api\"'}]},\n",
       " 'before_script': ['python --version; pip --version',\n",
       "  'pip install virtualenv',\n",
       "  'virtualenv venv',\n",
       "  'source venv/bin/activate'],\n",
       " 'stages': ['check', 'build', 'deploy'],\n",
       " 'lint': {'stage': 'check', 'script': ['pip install ruff', 'ruff check']},\n",
       " 'test': {'stage': 'check',\n",
       "  'script': ['pip install pytest httpx',\n",
       "   'pip install -r requirements.txt',\n",
       "   'pytest']},\n",
       " 'build': {'stage': 'build',\n",
       "  'image': {'name': 'gcr.io/kaniko-project/executor:v1.14.0-debug',\n",
       "   'entrypoint': ['']},\n",
       "  'before_script': [''],\n",
       "  'script': ['echo \"{\\\\\"auths\\\\\":{\\\\\"https://index.docker.io/v1/\\\\\":{\\\\\"auth\\\\\":\\\\\"$(printf \"%s:%s\" \"${DOCKERHUB_USERNAME}\" \"${DOCKERHUB_TOKEN}\" | base64 | tr -d \\'\\\\n\\')\\\\\"}}}\" > /kaniko/.docker/config.json',\n",
       "   '/kaniko/executor --context \"${CI_PROJECT_DIR}\" --dockerfile \"${CI_PROJECT_DIR}/Dockerfile\" --destination \"${DOCKERHUB_URL}\"']},\n",
       " 'deploy': {'stage': 'deploy',\n",
       "  'script': ['curl ${RENDER_DEPLOY_HOOK}'],\n",
       "  'environment': 'production'}}"
      ]
     },
     "execution_count": 7,
     "metadata": {},
     "output_type": "execute_result"
    }
   ],
   "source": [
    "yml_dict"
   ]
  },
  {
   "cell_type": "code",
   "execution_count": null,
   "id": "14020de0-e819-4d3d-bd7a-0743c266e142",
   "metadata": {},
   "outputs": [],
   "source": []
  }
 ],
 "metadata": {
  "kernelspec": {
   "display_name": "Python 3 (ipykernel)",
   "language": "python",
   "name": "python3"
  },
  "language_info": {
   "codemirror_mode": {
    "name": "ipython",
    "version": 3
   },
   "file_extension": ".py",
   "mimetype": "text/x-python",
   "name": "python",
   "nbconvert_exporter": "python",
   "pygments_lexer": "ipython3",
   "version": "3.11.10"
  }
 },
 "nbformat": 4,
 "nbformat_minor": 5
}
